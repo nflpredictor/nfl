{
 "cells": [
  {
   "cell_type": "markdown",
   "metadata": {},
   "source": [
    "### **Notebook objective**: preprocess and test models (logistic regression, svm, random forest, XGboost) to predict a NFL game's result"
   ]
  },
  {
   "cell_type": "code",
   "execution_count": null,
   "metadata": {},
   "outputs": [],
   "source": []
  }
 ],
 "metadata": {
  "kernelspec": {
   "display_name": "Python 3.10.6 64-bit (windows store)",
   "language": "python",
   "name": "python3"
  },
  "language_info": {
   "name": "python",
   "version": "3.10.6"
  },
  "orig_nbformat": 4,
  "vscode": {
   "interpreter": {
    "hash": "b0f83c99e3f58fcb45df72ba14dd4c5dca51a52ef6a1364f65bf6ca14e4a1196"
   }
  }
 },
 "nbformat": 4,
 "nbformat_minor": 2
}
