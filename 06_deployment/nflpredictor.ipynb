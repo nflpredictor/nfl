{
 "cells": [
  {
   "cell_type": "code",
   "execution_count": 49,
   "metadata": {},
   "outputs": [],
   "source": [
    "from optparse import Option\n",
    "from turtle import home\n",
    "#import streamlit as st\n",
    "import pandas as pd\n",
    "import numpy as np\n",
    "import json\n",
    "import os\n",
    "\n",
    "#st.title('NFL Predictor 2022')\n",
    "\n",
    "# Flatten data\n",
    "\n",
    "#print(os.listdir())\n",
    "json_file = '../01_scraping/json/espn_2022calendar.json'\n",
    "#with open(json_file,'r') as f:\n",
    "#    data = json.loads(f.read())\n",
    "#\n",
    "#file = open(json_file)\n",
    "#data = json.load(file)\n",
    "\n",
    "#print(os.listdir())\n",
    "\n",
    "#df = pd.json_normalize(json_file)\n",
    "df = pd.read_json(json_file)\n",
    "#print(df)\n",
    "#print(df)\n",
    "\n",
    "weeks = df['week'].unique()\n",
    "weeks = np.sort(weeks)\n",
    "weeks = pd.DataFrame(weeks)\n",
    "\n",
    "teams = df.loc[(df.week==10)]\n",
    "awayteams = pd.DataFrame({'team':teams.awayteam.unique()})\n",
    "#np.append(away,teams.hometeam.unique())\n",
    "hometeams = pd.DataFrame({'team':teams.hometeam.unique()})\n",
    "#teams = awayteams.append(hometeams, ignore_index=True)\n",
    "#print(awayteams)\n",
    "#print(hometeams)\n",
    "teams_df = [awayteams, hometeams]\n",
    "teams = pd.concat(teams_df,ignore_index=True)\n",
    "teams = teams.sort_values(by=['team'])\n",
    "#print(teams)\n",
    "#df.sort_values(by=['Brand'], inplace=True)\n",
    "#teams = df['awayteam'].unique()\n",
    "#teams = np.sort(teams)\n",
    "#teams = pd.DataFrame(teams)"
   ]
  },
  {
   "cell_type": "code",
   "execution_count": 62,
   "metadata": {},
   "outputs": [
    {
     "data": {
      "text/plain": [
       "'Lions'"
      ]
     },
     "execution_count": 62,
     "metadata": {},
     "output_type": "execute_result"
    }
   ],
   "source": [
    "game = df.loc[(df.week==10) & ((df.hometeam=='Bears') | (df.awayteam=='Bears'))]\n",
    "#game = df.loc[(df.week==week) & ((df.hometeam==team) | (df.awayteam==team))]\n",
    "game.iloc[0]['awayteam']\n",
    "#df.loc[(df.player_name=='Kyler Murray') & (df.game_id==401326597)]\n",
    "\n",
    "#game"
   ]
  },
  {
   "cell_type": "code",
   "execution_count": null,
   "metadata": {},
   "outputs": [],
   "source": [
    "json_scores = '../01_scraping/json/espn_scores.json'\n",
    "#with open(json_file,'r') as f:\n",
    "#    data = json.loads(f.read())\n",
    "#\n",
    "#file = open(json_file)\n",
    "#data = json.load(file)\n",
    "\n",
    "#print(os.listdir())\n",
    "\n",
    "#df = pd.json_normalize(json_file)\n",
    "df = pd.read_json(json_file)"
   ]
  }
 ],
 "metadata": {
  "kernelspec": {
   "display_name": "Python 3.10.5 64-bit (windows store)",
   "language": "python",
   "name": "python3"
  },
  "language_info": {
   "codemirror_mode": {
    "name": "ipython",
    "version": 3
   },
   "file_extension": ".py",
   "mimetype": "text/x-python",
   "name": "python",
   "nbconvert_exporter": "python",
   "pygments_lexer": "ipython3",
   "version": "3.10.5"
  },
  "orig_nbformat": 4,
  "vscode": {
   "interpreter": {
    "hash": "650fa92be31bf650066ac4047dcada211305a7063c331efd6a8c08465b54e9de"
   }
  }
 },
 "nbformat": 4,
 "nbformat_minor": 2
}
